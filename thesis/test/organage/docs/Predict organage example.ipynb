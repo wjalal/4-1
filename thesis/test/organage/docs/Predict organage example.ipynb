{
 "cells": [
  {
   "cell_type": "markdown",
   "id": "24c079ed",
   "metadata": {},
   "source": [
    "# Example usage\n",
    "Here is a demonstration of using \"organage\" to estimate organ-specific biological age from SomaScan data. \n",
    "\n",
    "\"organage\" requires SomaScan v4 (5k proteins) or v4.1 (7k proteins) data. "
   ]
  },
  {
   "cell_type": "code",
   "execution_count": null,
   "id": "228c3498",
   "metadata": {},
   "outputs": [
    {
     "ename": "",
     "evalue": "",
     "output_type": "error",
     "traceback": [
      "\u001b[1;31mThe kernel failed to start due to the missing module '_sqlite3'. Consider installing this module.\n",
      "\u001b[1;31mClick <a href='https://aka.ms/kernelFailuresMissingModule'>here</a> for more info."
     ]
    }
   ],
   "source": [
    "from organage import OrganAge\n",
    "import pandas as pd\n",
    "import matplotlib.pyplot as plt\n",
    "import seaborn as sns\n",
    "import statsmodels.api as sm\n",
    "from scipy.interpolate import interp1d\n",
    "from scipy import stats\n",
    "import numpy as np\n"
   ]
  },
  {
   "cell_type": "markdown",
   "id": "330b595d",
   "metadata": {},
   "source": [
    "# Load data"
   ]
  },
  {
   "cell_type": "markdown",
   "id": "5746afb7",
   "metadata": {},
   "source": [
    "### sample x metadata dataframe\n",
    "- index should be sample name\n",
    "- \"Age\" and \"Sex_F\" are required columns in this dataframe.\n",
    "- other columns are optional"
   ]
  },
  {
   "cell_type": "code",
   "execution_count": null,
   "id": "3e2cd7b2",
   "metadata": {},
   "outputs": [
    {
     "ename": "",
     "evalue": "",
     "output_type": "error",
     "traceback": [
      "\u001b[1;31mThe kernel failed to start due to the missing module '_sqlite3'. Consider installing this module.\n",
      "\u001b[1;31mClick <a href='https://aka.ms/kernelFailuresMissingModule'>here</a> for more info."
     ]
    }
   ],
   "source": [
    "md_hot = pd.read_csv(\"../tests/md_hot.csv\")\n",
    "md_hot = md_hot.set_index(\"ID\")\n",
    "md_hot"
   ]
  },
  {
   "cell_type": "markdown",
   "id": "a8e9999c",
   "metadata": {},
   "source": [
    "### sample x protein expression dataframe\n",
    "- index should be sample name\n",
    "- columns should be \"SeqId\"s from SomaScan data. \n",
    "- values should be ANML normalized expression data in RFU units. These values are the raw values from the '.anmlSMP.adat' file provided by Somalogic\n"
   ]
  },
  {
   "cell_type": "code",
   "execution_count": null,
   "id": "18c6d0df",
   "metadata": {},
   "outputs": [
    {
     "ename": "",
     "evalue": "",
     "output_type": "error",
     "traceback": [
      "\u001b[1;31mThe kernel failed to start due to the missing module '_sqlite3'. Consider installing this module.\n",
      "\u001b[1;31mClick <a href='https://aka.ms/kernelFailuresMissingModule'>here</a> for more info."
     ]
    }
   ],
   "source": [
    "df_prot = pd.read_csv(\"../tests/df_prot.csv\")\n",
    "df_prot = df_prot.set_index(\"ID\")\n",
    "df_prot"
   ]
  },
  {
   "cell_type": "markdown",
   "id": "88e342c8",
   "metadata": {},
   "source": [
    "# Calculate organ age gaps\n"
   ]
  },
  {
   "cell_type": "code",
   "execution_count": null,
   "id": "5f25c860",
   "metadata": {},
   "outputs": [
    {
     "ename": "",
     "evalue": "",
     "output_type": "error",
     "traceback": [
      "\u001b[1;31mThe kernel failed to start due to the missing module '_sqlite3'. Consider installing this module.\n",
      "\u001b[1;31mClick <a href='https://aka.ms/kernelFailuresMissingModule'>here</a> for more info."
     ]
    }
   ],
   "source": [
    "data = OrganAge.CreateOrganAgeObject()\n",
    "data.add_data(md_hot, df_prot)\n",
    "data.normalize(assay_version=\"v4.1\")  #requires \"v4\" 5k, or \"v4.1\" 7k\n",
    "res = data.estimate_organ_ages()\n",
    "res"
   ]
  },
  {
   "cell_type": "code",
   "execution_count": null,
   "id": "50f65318",
   "metadata": {},
   "outputs": [
    {
     "ename": "",
     "evalue": "",
     "output_type": "error",
     "traceback": [
      "\u001b[1;31mThe kernel failed to start due to the missing module '_sqlite3'. Consider installing this module.\n",
      "\u001b[1;31mClick <a href='https://aka.ms/kernelFailuresMissingModule'>here</a> for more info."
     ]
    }
   ],
   "source": [
    "toplot = res.loc[res.Organ==\"Heart\"]\n",
    "toplot = toplot.sort_values(\"Age\")\n",
    "sns.scatterplot(data=toplot, x=\"Age\", y=\"Predicted_Age\", \n",
    "                hue=\"AgeGap_zscored\", palette='coolwarm', hue_norm=(-3,3))                \n",
    "plt.plot(toplot.Age, toplot.yhat_lowess)\n",
    "plt.show()\n"
   ]
  },
  {
   "cell_type": "markdown",
   "id": "ac762f0f",
   "metadata": {},
   "source": [
    "# Recalculate age gap based on cohort age gap distribution\n",
    "The default method for this package calculates age gaps based on the distribution of predicted ages from the models' training cohort. \n",
    "\n",
    "\n",
    "It may be necessary to recalculate age gaps based on the distribution of the desired cohort if there are strong cohort effects. We show how to do this below.\n",
    "1. for each organ...\n",
    "2. derive lowess curve for predicted versus chronological age within a single cohort\n",
    "3. calculate age gap as the predicted age - lowess curve\n",
    "4. z-score"
   ]
  },
  {
   "cell_type": "code",
   "execution_count": null,
   "id": "1780bef8",
   "metadata": {},
   "outputs": [
    {
     "ename": "",
     "evalue": "",
     "output_type": "error",
     "traceback": [
      "\u001b[1;31mThe kernel failed to start due to the missing module '_sqlite3'. Consider installing this module.\n",
      "\u001b[1;31mClick <a href='https://aka.ms/kernelFailuresMissingModule'>here</a> for more info."
     ]
    }
   ],
   "source": [
    "todf=[]\n",
    "FRAC=2/3\n",
    "\n",
    "#for each organ\n",
    "for organ in set(res.Organ):\n",
    "    res_sub = res.loc[res.Organ==organ].copy()\n",
    "\n",
    "    #lowess curve\n",
    "    lowess = sm.nonparametric.lowess\n",
    "    lowess_fit=lowess(res_sub.Predicted_Age.to_numpy(), res_sub.Age.to_numpy(), frac=FRAC, it=5)\n",
    "    lowess_fit_int = interp1d(lowess_fit[:,0], lowess_fit[:,1], bounds_error=False, kind='linear', fill_value='extrapolate') \n",
    "    y_lowess=lowess_fit_int(res_sub.Age)\n",
    "    res_sub[\"yhat_lowess_cohort\"] = y_lowess\n",
    "\n",
    "    #age gap\n",
    "    res_sub[\"AgeGap_cohort\"] = res_sub[\"Predicted_Age\"] - res_sub[\"yhat_lowess_cohort\"]\n",
    "\n",
    "    #z-score\n",
    "    res_sub[\"AgeGap_cohort_zscored\"] = stats.zscore(res_sub[\"AgeGap_cohort\"])\n",
    "    todf.append(res_sub)\n",
    "\n",
    "res_all = pd.concat(todf)\n",
    "res_all\n"
   ]
  },
  {
   "cell_type": "code",
   "execution_count": null,
   "id": "962b8ee3",
   "metadata": {},
   "outputs": [
    {
     "ename": "",
     "evalue": "",
     "output_type": "error",
     "traceback": [
      "\u001b[1;31mThe kernel failed to start due to the missing module '_sqlite3'. Consider installing this module.\n",
      "\u001b[1;31mClick <a href='https://aka.ms/kernelFailuresMissingModule'>here</a> for more info."
     ]
    }
   ],
   "source": [
    "toplot = res_all.loc[res_all.Organ==\"Heart\"]\n",
    "toplot = toplot.sort_values(\"Age\")\n",
    "sns.scatterplot(data=toplot, x=\"Age\", y=\"Predicted_Age\", \n",
    "                hue=\"AgeGap_cohort_zscored\", palette='coolwarm', hue_norm=(-3,3))                \n",
    "plt.plot(toplot.Age, toplot.yhat_lowess, label=\"training cohort lowess\")\n",
    "plt.plot(toplot.Age, toplot.yhat_lowess_cohort, label=\"this cohort lowess\")\n",
    "plt.legend()\n",
    "plt.show()\n"
   ]
  },
  {
   "cell_type": "markdown",
   "id": "86ce8b57",
   "metadata": {},
   "source": [
    "lowess regression may be unnecessary if the distribution is linear, and/or lowess may be overfit with low sample size. "
   ]
  },
  {
   "cell_type": "code",
   "execution_count": null,
   "id": "1ef789c7",
   "metadata": {},
   "outputs": [
    {
     "ename": "",
     "evalue": "",
     "output_type": "error",
     "traceback": [
      "\u001b[1;31mThe kernel failed to start due to the missing module '_sqlite3'. Consider installing this module.\n",
      "\u001b[1;31mClick <a href='https://aka.ms/kernelFailuresMissingModule'>here</a> for more info."
     ]
    }
   ],
   "source": [
    "#ie. low sample size causes Artery lowess to overfit\n",
    "toplot = res_all.loc[res_all.Organ==\"Artery\"]\n",
    "toplot = toplot.sort_values(\"Age\")\n",
    "sns.scatterplot(data=toplot, x=\"Age\", y=\"Predicted_Age\", \n",
    "                hue=\"AgeGap_cohort_zscored\", palette='coolwarm', hue_norm=(-3,3))                \n",
    "plt.plot(toplot.Age, toplot.yhat_lowess, label=\"training cohort lowess\")\n",
    "plt.plot(toplot.Age, toplot.yhat_lowess_cohort, label=\"this cohort lowess\")\n",
    "plt.legend()\n",
    "plt.show()\n"
   ]
  },
  {
   "cell_type": "markdown",
   "id": "5f6e9b8d",
   "metadata": {},
   "source": [
    "can either increase lowess paramter \"frac\" to 1 or use linear regression."
   ]
  },
  {
   "cell_type": "code",
   "execution_count": null,
   "id": "82c3aa69",
   "metadata": {},
   "outputs": [
    {
     "ename": "",
     "evalue": "",
     "output_type": "error",
     "traceback": [
      "\u001b[1;31mThe kernel failed to start due to the missing module '_sqlite3'. Consider installing this module.\n",
      "\u001b[1;31mClick <a href='https://aka.ms/kernelFailuresMissingModule'>here</a> for more info."
     ]
    }
   ],
   "source": [
    "#linear regression of predicted versus chronological age\n",
    "todf=[]\n",
    "\n",
    "#for each organ\n",
    "for organ in set(res.Organ):\n",
    "    res_sub = res.loc[res.Organ==organ].copy()\n",
    "\n",
    "    #lowess curve\n",
    "    ols = sm.OLS(res_sub.Predicted_Age, sm.add_constant(res_sub[[\"Age\"]])).fit()    \n",
    "    res_sub[\"yhat_linear_cohort\"] = ols.predict(sm.add_constant(res_sub[[\"Age\"]]))\n",
    "\n",
    "    #age gap\n",
    "    res_sub[\"AgeGap_cohort\"] = ols.resid\n",
    "\n",
    "    #z-score\n",
    "    res_sub[\"AgeGap_cohort_zscored\"] = stats.zscore(res_sub[\"AgeGap_cohort\"])\n",
    "    todf.append(res_sub)\n",
    "\n",
    "res_all = pd.concat(todf)\n",
    "res_all\n"
   ]
  },
  {
   "cell_type": "code",
   "execution_count": null,
   "id": "0b0fa6d3",
   "metadata": {},
   "outputs": [
    {
     "ename": "",
     "evalue": "",
     "output_type": "error",
     "traceback": [
      "\u001b[1;31mThe kernel failed to start due to the missing module '_sqlite3'. Consider installing this module.\n",
      "\u001b[1;31mClick <a href='https://aka.ms/kernelFailuresMissingModule'>here</a> for more info."
     ]
    }
   ],
   "source": [
    "toplot = res_all.loc[res_all.Organ==\"Artery\"]\n",
    "toplot = toplot.sort_values(\"Age\")\n",
    "sns.scatterplot(data=toplot, x=\"Age\", y=\"Predicted_Age\", \n",
    "                hue=\"AgeGap_cohort_zscored\", palette='coolwarm', hue_norm=(-3,3))\n",
    "plt.plot(toplot.Age, toplot.yhat_lowess, label=\"training cohort lowess\")\n",
    "plt.plot(toplot.Age, toplot.yhat_linear_cohort, label=\"this cohort linear\")\n",
    "plt.legend()\n",
    "plt.show()\n"
   ]
  },
  {
   "cell_type": "code",
   "execution_count": null,
   "id": "087ea27c",
   "metadata": {},
   "outputs": [
    {
     "ename": "",
     "evalue": "",
     "output_type": "error",
     "traceback": [
      "\u001b[1;31mThe kernel failed to start due to the missing module '_sqlite3'. Consider installing this module.\n",
      "\u001b[1;31mClick <a href='https://aka.ms/kernelFailuresMissingModule'>here</a> for more info."
     ]
    }
   ],
   "source": []
  }
 ],
 "metadata": {
  "kernelspec": {
   "display_name": "Python 3",
   "language": "python",
   "name": "python3"
  },
  "language_info": {
   "codemirror_mode": {
    "name": "ipython",
    "version": 3
   },
   "file_extension": ".py",
   "mimetype": "text/x-python",
   "name": "python",
   "nbconvert_exporter": "python",
   "pygments_lexer": "ipython3",
   "version": "3.9.18"
  }
 },
 "nbformat": 4,
 "nbformat_minor": 5
}
